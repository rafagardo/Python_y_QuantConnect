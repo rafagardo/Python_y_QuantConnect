{
 "cells": [
  {
   "cell_type": "markdown",
   "id": "3f3490fe-d74f-4ab4-a1d1-068f2299edcc",
   "metadata": {},
   "source": [
    "Strings: Valores de texto compuestos por una secuencia de caracteres"
   ]
  },
  {
   "cell_type": "code",
   "execution_count": 3,
   "id": "a342d264-2da8-461e-8822-65a941994a7d",
   "metadata": {},
   "outputs": [
    {
     "ename": "NameError",
     "evalue": "name 'Carlos' is not defined",
     "output_type": "error",
     "traceback": [
      "\u001b[1;31m---------------------------------------------------------------------------\u001b[0m",
      "\u001b[1;31mNameError\u001b[0m                                 Traceback (most recent call last)",
      "Cell \u001b[1;32mIn[3], line 1\u001b[0m\n\u001b[1;32m----> 1\u001b[0m Carlos\n",
      "\u001b[1;31mNameError\u001b[0m: name 'Carlos' is not defined"
     ]
    }
   ],
   "source": [
    "Carlos"
   ]
  },
  {
   "cell_type": "code",
   "execution_count": 5,
   "id": "1ac3c604-f938-4aaf-a2ee-0fbd8b0ae7f7",
   "metadata": {},
   "outputs": [
    {
     "data": {
      "text/plain": [
       "'Carlos'"
      ]
     },
     "execution_count": 5,
     "metadata": {},
     "output_type": "execute_result"
    }
   ],
   "source": [
    "'Carlos'"
   ]
  },
  {
   "cell_type": "code",
   "execution_count": 7,
   "id": "53e49f0a-9e1c-490c-91cc-ebc7a1720f93",
   "metadata": {},
   "outputs": [
    {
     "data": {
      "text/plain": [
       "'Carlos'"
      ]
     },
     "execution_count": 7,
     "metadata": {},
     "output_type": "execute_result"
    }
   ],
   "source": [
    "\"Carlos\""
   ]
  },
  {
   "cell_type": "code",
   "execution_count": 9,
   "id": "76965d07-8459-4685-a3fb-aa928993b457",
   "metadata": {},
   "outputs": [
    {
     "name": "stdout",
     "output_type": "stream",
     "text": [
      "Carlos\n"
     ]
    }
   ],
   "source": [
    "print(\"Carlos\")"
   ]
  },
  {
   "cell_type": "code",
   "execution_count": 11,
   "id": "e16a44d9-904d-4f8c-bbef-0dbaa5557fc8",
   "metadata": {},
   "outputs": [],
   "source": [
    "y = 25"
   ]
  },
  {
   "cell_type": "code",
   "execution_count": 13,
   "id": "2f57a549-0466-4406-936b-319c690ff2ed",
   "metadata": {},
   "outputs": [
    {
     "ename": "TypeError",
     "evalue": "unsupported operand type(s) for +: 'int' and 'str'",
     "output_type": "error",
     "traceback": [
      "\u001b[1;31m---------------------------------------------------------------------------\u001b[0m",
      "\u001b[1;31mTypeError\u001b[0m                                 Traceback (most recent call last)",
      "Cell \u001b[1;32mIn[13], line 1\u001b[0m\n\u001b[1;32m----> 1\u001b[0m \u001b[38;5;28mprint\u001b[39m(y \u001b[38;5;241m+\u001b[39m \u001b[38;5;124m\"\u001b[39m\u001b[38;5;124mdolares\u001b[39m\u001b[38;5;124m\"\u001b[39m)\n",
      "\u001b[1;31mTypeError\u001b[0m: unsupported operand type(s) for +: 'int' and 'str'"
     ]
    }
   ],
   "source": [
    "print(y + \"dolares\")"
   ]
  },
  {
   "cell_type": "code",
   "execution_count": 17,
   "id": "1aa2cbe6-b9d2-46cc-a815-00f3587a1695",
   "metadata": {},
   "outputs": [
    {
     "name": "stdout",
     "output_type": "stream",
     "text": [
      "25 dolares\n"
     ]
    }
   ],
   "source": [
    "print(str(y) + \" dolares\")"
   ]
  },
  {
   "cell_type": "code",
   "execution_count": 19,
   "id": "b2a90464-1dc3-4d5a-8052-97c214afa20d",
   "metadata": {},
   "outputs": [
    {
     "ename": "SyntaxError",
     "evalue": "invalid syntax (1029558337.py, line 1)",
     "output_type": "error",
     "traceback": [
      "\u001b[1;36m  Cell \u001b[1;32mIn[19], line 1\u001b[1;36m\u001b[0m\n\u001b[1;33m    I'm Carlos'\u001b[0m\n\u001b[1;37m     ^\u001b[0m\n\u001b[1;31mSyntaxError\u001b[0m\u001b[1;31m:\u001b[0m invalid syntax\n"
     ]
    }
   ],
   "source": [
    "I'm Carlos'"
   ]
  },
  {
   "cell_type": "code",
   "execution_count": 21,
   "id": "61fd7ea4-514a-4bca-93a1-f72c64a11d7c",
   "metadata": {},
   "outputs": [
    {
     "data": {
      "text/plain": [
       "\"I'm Carlos\""
      ]
     },
     "execution_count": 21,
     "metadata": {},
     "output_type": "execute_result"
    }
   ],
   "source": [
    "\"I'm Carlos\""
   ]
  },
  {
   "cell_type": "code",
   "execution_count": 23,
   "id": "6b85c908-7b47-44d5-87c8-1a6ee663f4f4",
   "metadata": {},
   "outputs": [
    {
     "data": {
      "text/plain": [
       "\"I'm Carlos\""
      ]
     },
     "execution_count": 23,
     "metadata": {},
     "output_type": "execute_result"
    }
   ],
   "source": [
    "'I\\'m Carlos'"
   ]
  },
  {
   "cell_type": "code",
   "execution_count": 25,
   "id": "fab5e832-2d23-48f8-b4ac-e2561a3cf602",
   "metadata": {},
   "outputs": [
    {
     "data": {
      "text/plain": [
       "'Casabonita'"
      ]
     },
     "execution_count": 25,
     "metadata": {},
     "output_type": "execute_result"
    }
   ],
   "source": [
    "'Casa' 'bonita'"
   ]
  },
  {
   "cell_type": "code",
   "execution_count": 27,
   "id": "e6b1f476-01a7-4f2a-870b-f08ba22d3451",
   "metadata": {},
   "outputs": [
    {
     "data": {
      "text/plain": [
       "'Casa bonita'"
      ]
     },
     "execution_count": 27,
     "metadata": {},
     "output_type": "execute_result"
    }
   ],
   "source": [
    "'Casa ' 'bonita'"
   ]
  },
  {
   "cell_type": "code",
   "execution_count": 29,
   "id": "e7f66351-fbb4-4a55-8863-e562c6392180",
   "metadata": {},
   "outputs": [
    {
     "name": "stdout",
     "output_type": "stream",
     "text": [
      "Casa bonita\n"
     ]
    }
   ],
   "source": [
    "print(\"Casa \" + \"bonita\")"
   ]
  },
  {
   "cell_type": "code",
   "execution_count": 31,
   "id": "84947a2b-7d18-4d00-97d6-836bf629f10f",
   "metadata": {},
   "outputs": [
    {
     "name": "stdout",
     "output_type": "stream",
     "text": [
      "Casa bonita\n"
     ]
    }
   ],
   "source": [
    "print('Casa', 'bonita')"
   ]
  },
  {
   "cell_type": "code",
   "execution_count": null,
   "id": "ac9940fc-f8d3-4708-b68e-a33de9ea216f",
   "metadata": {},
   "outputs": [],
   "source": []
  }
 ],
 "metadata": {
  "kernelspec": {
   "display_name": "Python 3 (ipykernel)",
   "language": "python",
   "name": "python3"
  },
  "language_info": {
   "codemirror_mode": {
    "name": "ipython",
    "version": 3
   },
   "file_extension": ".py",
   "mimetype": "text/x-python",
   "name": "python",
   "nbconvert_exporter": "python",
   "pygments_lexer": "ipython3",
   "version": "3.12.7"
  }
 },
 "nbformat": 4,
 "nbformat_minor": 5
}
