{
 "cells": [
  {
   "cell_type": "markdown",
   "id": "f9f4d0bd-e950-4c10-857b-f62feeed00de",
   "metadata": {},
   "source": [
    "Bienvenidos a una herramienta poderosa en Python que hace que nuestro codigo no solo funcione bien, sino que tambien se vea bien. Hablamos de las f-strings\n",
    "o cadenas con formato, una forma de incrustar expresiones dentro de cadenas de texto que nos ayuda a presentar informacion de manera clara y profesional.\n",
    "\n",
    "Cuando trabajamos con texto, las f-strings nos permiten combinar cadenas y variables de manera eficiente. Imaginemos que queremos saludar a un usuario\n",
    "por su nombre. En ligar de concatenar cadenas y variables. utilizamos las f-strings para insertar el nombre del usuario directamente en el saludo. Veamos\n",
    "como:"
   ]
  },
  {
   "cell_type": "code",
   "execution_count": 3,
   "id": "d4c25390-9ae4-4f4d-a741-bc610f316f8a",
   "metadata": {},
   "outputs": [],
   "source": [
    "nombre_usuario = \"Ana\""
   ]
  },
  {
   "cell_type": "code",
   "execution_count": 5,
   "id": "f69c9653-a39e-438f-a592-0d0979894ba4",
   "metadata": {},
   "outputs": [
    {
     "name": "stdout",
     "output_type": "stream",
     "text": [
      "Bienvenida, Ana\n"
     ]
    }
   ],
   "source": [
    "print(f\"Bienvenida, {nombre_usuario}\")"
   ]
  },
  {
   "cell_type": "markdown",
   "id": "7548d933-4f12-4268-b68a-e8737d90eaa8",
   "metadata": {},
   "source": [
    "Con este simple ejemplo, hemos creado un saludo personalizado. Noten como {nombre_usuario} es reemplazado por el valor de la variable nombre_usuario.\n",
    "Esto es solo el comienzo; las f-strings son capaces de mucho mas.\n",
    "\n",
    "Las f-strings tambien brillan al trabajar con numeros, especialmente cuando necesitamos presentar estos numeros con formato especifico. Por ejemplo,\n",
    "si quisieramos mostrar uin precio con dos decimales, utilizamos :.2f dentro de las llaves. Esto indica que queremos formatear un numero flotante con dos\n",
    "decimales:"
   ]
  },
  {
   "cell_type": "code",
   "execution_count": 8,
   "id": "5e2cb11e-8d31-46da-84cd-5128948c3d08",
   "metadata": {},
   "outputs": [],
   "source": [
    "precio = 49.999998975"
   ]
  },
  {
   "cell_type": "code",
   "execution_count": 10,
   "id": "7d641aa4-5bad-4d76-9a32-d7d1281d95a8",
   "metadata": {},
   "outputs": [
    {
     "name": "stdout",
     "output_type": "stream",
     "text": [
      "El precio es: $50.00\n"
     ]
    }
   ],
   "source": [
    "print(f\"El precio es: ${precio:.2f}\")"
   ]
  },
  {
   "cell_type": "markdown",
   "id": "64b743fa-d112-4df1-8d39-6c4beef95207",
   "metadata": {},
   "source": [
    "De igual manera, si queremos mostrar un porcentaje con solo un decimal, usuariamos :.1f:"
   ]
  },
  {
   "cell_type": "code",
   "execution_count": 13,
   "id": "bd267e05-977b-404b-9363-8490df7f80f9",
   "metadata": {},
   "outputs": [],
   "source": [
    "porcentaje = 85.333"
   ]
  },
  {
   "cell_type": "code",
   "execution_count": 17,
   "id": "821fcda2-2cc6-42ed-b354-4f0a15d9ff3f",
   "metadata": {},
   "outputs": [
    {
     "name": "stdout",
     "output_type": "stream",
     "text": [
      "El porcentaje completado es: 85.3%\n"
     ]
    }
   ],
   "source": [
    "print(f\"El porcentaje completado es: {porcentaje:.1f}%\")"
   ]
  },
  {
   "cell_type": "markdown",
   "id": "4ea1ae6c-ce7a-458c-bfda-9dd3078e203c",
   "metadata": {},
   "source": [
    "Finalmente, las f-strings tambien son utiles para trabajar con fechas. Python nos permite formatear objetos de fecha y hora de acuerdo con nuestra necesdiad. Si tenemos un objeto de fecha, podemos elegir el formato en que queremos presentarlo utilizando strftime y la sintaxis de f-strings. Por ejemplo, si queremos mostrar una fecha en el formato dia-mes-año, podriamos hacerlo de la siguiente manera:"
   ]
  },
  {
   "cell_type": "code",
   "execution_count": 20,
   "id": "09f46172-324f-484d-8b42-ea7a7a410744",
   "metadata": {},
   "outputs": [],
   "source": [
    "from datetime import datetime"
   ]
  },
  {
   "cell_type": "code",
   "execution_count": 22,
   "id": "f981da79-aaff-40b0-90fb-943c47ecde27",
   "metadata": {},
   "outputs": [],
   "source": [
    "fecha_actual = datetime.now()"
   ]
  },
  {
   "cell_type": "code",
   "execution_count": 24,
   "id": "2a7c1d92-9d42-4f76-a759-d388aa3a9537",
   "metadata": {},
   "outputs": [
    {
     "name": "stdout",
     "output_type": "stream",
     "text": [
      "La fecha de hoy es: 10-11-2024\n"
     ]
    }
   ],
   "source": [
    "print(f\"La fecha de hoy es: {fecha_actual:%d-%m-%Y}\")"
   ]
  },
  {
   "cell_type": "markdown",
   "id": "b06cfe73-b3ba-4e84-b275-b1df0bc53428",
   "metadata": {},
   "source": [
    "Este codigo imprimira la fecha actual en el formato deseado, gracias a las capacidades de las f-strings para trabajar con metodos y formatos de objetos\n",
    "mas complejos."
   ]
  },
  {
   "cell_type": "code",
   "execution_count": null,
   "id": "044f23a8-bf22-4049-aa54-65e2408c6b91",
   "metadata": {},
   "outputs": [],
   "source": []
  }
 ],
 "metadata": {
  "kernelspec": {
   "display_name": "Python 3 (ipykernel)",
   "language": "python",
   "name": "python3"
  },
  "language_info": {
   "codemirror_mode": {
    "name": "ipython",
    "version": 3
   },
   "file_extension": ".py",
   "mimetype": "text/x-python",
   "name": "python",
   "nbconvert_exporter": "python",
   "pygments_lexer": "ipython3",
   "version": "3.12.7"
  }
 },
 "nbformat": 4,
 "nbformat_minor": 5
}
