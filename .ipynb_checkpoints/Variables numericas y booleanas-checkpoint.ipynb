{
 "cells": [
  {
   "cell_type": "markdown",
   "id": "7ead7d22-6e1f-43aa-980f-b40cd9d06d9b",
   "metadata": {},
   "source": [
    "Las variables numericas pueden ser enteras o de punto flotante\n",
    "\n",
    "Podemos saber el tipo de variable con la funcion type()\n",
    "\n",
    "Las funciones int() y float() transforman valores numericos a enteros y flotantes, respectivamente"
   ]
  },
  {
   "cell_type": "code",
   "execution_count": 3,
   "id": "d83ed7cb-fe92-40de-9bc9-9af7a08a7e90",
   "metadata": {},
   "outputs": [],
   "source": [
    "x = 6"
   ]
  },
  {
   "cell_type": "code",
   "execution_count": 5,
   "id": "b7b3509b-3fe6-46e7-89e9-8b72690786b6",
   "metadata": {},
   "outputs": [
    {
     "data": {
      "text/plain": [
       "int"
      ]
     },
     "execution_count": 5,
     "metadata": {},
     "output_type": "execute_result"
    }
   ],
   "source": [
    "type(x)"
   ]
  },
  {
   "cell_type": "code",
   "execution_count": 7,
   "id": "d48f3e6a-0fcb-4c3f-90e6-6888ebc66251",
   "metadata": {},
   "outputs": [],
   "source": [
    "y = 9.8"
   ]
  },
  {
   "cell_type": "code",
   "execution_count": 9,
   "id": "f369d5e8-b954-4d4d-8a30-28655fa70d41",
   "metadata": {},
   "outputs": [
    {
     "data": {
      "text/plain": [
       "float"
      ]
     },
     "execution_count": 9,
     "metadata": {},
     "output_type": "execute_result"
    }
   ],
   "source": [
    "type(y)"
   ]
  },
  {
   "cell_type": "code",
   "execution_count": 11,
   "id": "82912fcd-1855-4f81-a447-8542b6946296",
   "metadata": {},
   "outputs": [
    {
     "data": {
      "text/plain": [
       "6.0"
      ]
     },
     "execution_count": 11,
     "metadata": {},
     "output_type": "execute_result"
    }
   ],
   "source": [
    "float(x)"
   ]
  },
  {
   "cell_type": "code",
   "execution_count": 13,
   "id": "abe0a523-715e-46e9-aac4-15b582d9bf1d",
   "metadata": {},
   "outputs": [
    {
     "data": {
      "text/plain": [
       "9"
      ]
     },
     "execution_count": 13,
     "metadata": {},
     "output_type": "execute_result"
    }
   ],
   "source": [
    "int(y)"
   ]
  },
  {
   "cell_type": "markdown",
   "id": "6c4b4bf7-eb36-46f1-9db8-e42f9d618a20",
   "metadata": {},
   "source": [
    "No todas las variables en Python son muericas. Otro tipo de variables son las booleanas, que corresponden a la logica computacional de ceros y unos.\n",
    "Al igual que con las variables numericas, podemo usar la funcion type para identificar su tipo. Para que Python las reconozca debemos identificarlas con\n",
    "los valores True o False escritas con la primera letra en mayuscula."
   ]
  },
  {
   "cell_type": "code",
   "execution_count": 16,
   "id": "7d9f6b51-bdee-4dbb-b827-0413e8df8cc1",
   "metadata": {},
   "outputs": [],
   "source": [
    "a = True"
   ]
  },
  {
   "cell_type": "code",
   "execution_count": 18,
   "id": "bbfa1ec0-6cff-4229-93de-e73a5820c104",
   "metadata": {},
   "outputs": [
    {
     "data": {
      "text/plain": [
       "bool"
      ]
     },
     "execution_count": 18,
     "metadata": {},
     "output_type": "execute_result"
    }
   ],
   "source": [
    "type(a)"
   ]
  },
  {
   "cell_type": "code",
   "execution_count": 20,
   "id": "b55aff28-0e0f-49eb-9b87-fbea7ad591c5",
   "metadata": {},
   "outputs": [
    {
     "ename": "NameError",
     "evalue": "name 'false' is not defined",
     "output_type": "error",
     "traceback": [
      "\u001b[1;31m---------------------------------------------------------------------------\u001b[0m",
      "\u001b[1;31mNameError\u001b[0m                                 Traceback (most recent call last)",
      "Cell \u001b[1;32mIn[20], line 1\u001b[0m\n\u001b[1;32m----> 1\u001b[0m b \u001b[38;5;241m=\u001b[39m false\n",
      "\u001b[1;31mNameError\u001b[0m: name 'false' is not defined"
     ]
    }
   ],
   "source": [
    "b = false"
   ]
  },
  {
   "cell_type": "code",
   "execution_count": 22,
   "id": "dee24b41-497e-479e-b987-f4df872e1d81",
   "metadata": {},
   "outputs": [],
   "source": [
    "b = False"
   ]
  },
  {
   "cell_type": "code",
   "execution_count": 24,
   "id": "817f4482-ed22-4fc9-b2fb-80b6bf8e058d",
   "metadata": {},
   "outputs": [
    {
     "data": {
      "text/plain": [
       "bool"
      ]
     },
     "execution_count": 24,
     "metadata": {},
     "output_type": "execute_result"
    }
   ],
   "source": [
    "type(b)"
   ]
  },
  {
   "cell_type": "code",
   "execution_count": null,
   "id": "b5223ef1-7206-4dea-88ac-f2d696d8d732",
   "metadata": {},
   "outputs": [],
   "source": []
  }
 ],
 "metadata": {
  "kernelspec": {
   "display_name": "Python 3 (ipykernel)",
   "language": "python",
   "name": "python3"
  },
  "language_info": {
   "codemirror_mode": {
    "name": "ipython",
    "version": 3
   },
   "file_extension": ".py",
   "mimetype": "text/x-python",
   "name": "python",
   "nbconvert_exporter": "python",
   "pygments_lexer": "ipython3",
   "version": "3.12.7"
  }
 },
 "nbformat": 4,
 "nbformat_minor": 5
}
